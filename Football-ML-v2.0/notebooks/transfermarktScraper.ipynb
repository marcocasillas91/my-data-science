{
 "cells": [
  {
   "cell_type": "code",
   "execution_count": 1,
   "id": "3a86fa5c-6446-4696-8b82-e47313e6bc68",
   "metadata": {
    "tags": []
   },
   "outputs": [],
   "source": [
    "import pandas as pd\n",
    "import requests as req\n",
    "from bs4 import BeautifulSoup\n",
    "import time\n",
    "import numpy as np\n",
    "import lxml\n",
    "import chardet\n",
    "\n",
    "#!pip install html5lib\n",
    "#import html5lib\n",
    "\n"
   ]
  },
  {
   "cell_type": "code",
   "execution_count": 2,
   "id": "1728cbb5-5cad-488e-81d1-47dffcc4288e",
   "metadata": {
    "tags": []
   },
   "outputs": [],
   "source": [
    "headers = {'User-Agent': \n",
    "           'Mozilla/5.0 (X11; Linux x86_64) AppleWebKit/537.36 (KHTML, like Gecko) Chrome/47.0.2526.106 Safari/537.36'}\n"
   ]
  },
  {
   "cell_type": "code",
   "execution_count": 3,
   "id": "643ab6c2-338d-4828-b3a3-7e748ada39ca",
   "metadata": {
    "tags": []
   },
   "outputs": [],
   "source": [
    "years = list(range(2022, 2017, -1))\n",
    "\n",
    "linkApertura =\"https://transfermarkt.com/liga-mx-apertura/startseite/wettbewerb/MEXA/saison_id/\"\n",
    "linkClausura =\"https://transfermarkt.com/liga-mx-clausura/startseite/wettbewerb/MEX1/saison_id/\"\n",
    "links = [linkApertura , linkClausura]\n"
   ]
  },
  {
   "cell_type": "code",
   "execution_count": 4,
   "id": "9d6e7c70-35b3-4a79-9868-7be8a954352e",
   "metadata": {
    "tags": []
   },
   "outputs": [],
   "source": [
    "def getSeasonLeagueTeamsUrls(ligaMxUrl):\n",
    "    data = req.get(ligaMxUrl, headers = headers)    \n",
    "    soup = BeautifulSoup(data.text, \"lxml\")\n",
    "    teams_table=soup.select('table.items')[0]\n",
    "\n",
    "    #Retrieving team links\n",
    "    links = teams_table.find_all('a')\n",
    "    links = [l.get(\"href\") for l in links]\n",
    "    links = [l for l in links if '/startseite/verein/' in l]\n",
    "\n",
    "    league_urls = [f\"https://transfermarkt.com{l}\" for l in links]\n",
    "    return league_urls, soup\n"
   ]
  },
  {
   "cell_type": "code",
   "execution_count": 5,
   "id": "58678240-62f5-40b4-b245-81bf89edd1ee",
   "metadata": {
    "tags": []
   },
   "outputs": [],
   "source": [
    "def extract_df_from_tMarkt_table(urlList, years):\n",
    "    \n",
    "    def extractTournamentNameFromLink(url):\n",
    "        year = url[-4: ]\n",
    "        tournamentName = \"Apertura\" if 'MEXA' in url else \"Clausura\"\n",
    "        years = year + \"/\" + str( int(year) + 1)\n",
    "        return tournamentName , years\n",
    "        \n",
    "\n",
    "    teamsDescriptionList = []\n",
    "    \n",
    "    for year in years:\n",
    "        for page in urlList:\n",
    "            page = page + str(year)\n",
    "            data = req.get(page, headers = headers)    \n",
    "            \n",
    "            team_features = pd.read_html(data.text ,match = 'Squad')[0]\n",
    "            \n",
    "            #These lines fix the mismatch between headers and columns when \n",
    "            #exportring to dataframe\n",
    "            del team_features[\"Club\"]\n",
    "            del team_features[\"Total market value\"]\n",
    "    \n",
    "            team_features = team_features.drop(team_features.index[-1])\n",
    "\n",
    "            #New column names            \n",
    "            team_features.columns = [\"club\",\"squad\",\"avgAge\",\"foreigners\",\"avg_market_value\",\"total_market_value\"]\n",
    "            \n",
    "            #Adding some extra columns\n",
    "            team_features[\"year\"]= year\n",
    "            \n",
    "            tournamentName, yearsPeriod = extractTournamentNameFromLink(page)\n",
    "            team_features[\"tournament\"]= tournamentName\n",
    "            team_features[\"period\"]= yearsPeriod\n",
    "            \n",
    "            #Adding dataframe from this page to list\n",
    "            teamsDescriptionList.append(team_features)\n",
    "            time.sleep(1)        \n",
    "    \n",
    "    \n",
    "    teamsInfo = pd.concat(teamsDescriptionList)\n",
    "    \n",
    "    #Erasing Euro symbol \n",
    "    teamsInfo['avg_market_value']   = teamsInfo['avg_market_value'  ].str.replace('\\u20ac','')\n",
    "    teamsInfo['total_market_value'] = teamsInfo['total_market_value'].str.replace('\\u20ac','')\n",
    "    \n",
    "     \n",
    "    return teamsInfo\n",
    "    "
   ]
  },
  {
   "cell_type": "code",
   "execution_count": 6,
   "id": "d83fc8e0-e9c3-43f2-bdf2-36fe209929fa",
   "metadata": {
    "tags": []
   },
   "outputs": [],
   "source": [
    "teamsInfo = extract_df_from_tMarkt_table(links, years)"
   ]
  },
  {
   "cell_type": "code",
   "execution_count": 7,
   "id": "5a54d899-dae3-4135-b43b-e6a42870fc32",
   "metadata": {
    "tags": []
   },
   "outputs": [
    {
     "data": {
      "text/html": [
       "<div>\n",
       "<style scoped>\n",
       "    .dataframe tbody tr th:only-of-type {\n",
       "        vertical-align: middle;\n",
       "    }\n",
       "\n",
       "    .dataframe tbody tr th {\n",
       "        vertical-align: top;\n",
       "    }\n",
       "\n",
       "    .dataframe thead th {\n",
       "        text-align: right;\n",
       "    }\n",
       "</style>\n",
       "<table border=\"1\" class=\"dataframe\">\n",
       "  <thead>\n",
       "    <tr style=\"text-align: right;\">\n",
       "      <th></th>\n",
       "      <th>club</th>\n",
       "      <th>squad</th>\n",
       "      <th>avgAge</th>\n",
       "      <th>foreigners</th>\n",
       "      <th>avg_market_value</th>\n",
       "      <th>total_market_value</th>\n",
       "      <th>year</th>\n",
       "      <th>tournament</th>\n",
       "      <th>period</th>\n",
       "    </tr>\n",
       "  </thead>\n",
       "  <tbody>\n",
       "    <tr>\n",
       "      <th>3</th>\n",
       "      <td>Deportivo Guadalajara</td>\n",
       "      <td>26.0</td>\n",
       "      <td>26.1</td>\n",
       "      <td>0</td>\n",
       "      <td>2.52m</td>\n",
       "      <td>65.60m</td>\n",
       "      <td>2022</td>\n",
       "      <td>Apertura</td>\n",
       "      <td>2022/2023</td>\n",
       "    </tr>\n",
       "    <tr>\n",
       "      <th>3</th>\n",
       "      <td>Deportivo Guadalajara</td>\n",
       "      <td>26.0</td>\n",
       "      <td>26.1</td>\n",
       "      <td>0</td>\n",
       "      <td>2.52m</td>\n",
       "      <td>65.60m</td>\n",
       "      <td>2022</td>\n",
       "      <td>Clausura</td>\n",
       "      <td>2022/2023</td>\n",
       "    </tr>\n",
       "    <tr>\n",
       "      <th>4</th>\n",
       "      <td>Deportivo Guadalajara</td>\n",
       "      <td>53.0</td>\n",
       "      <td>24.1</td>\n",
       "      <td>1</td>\n",
       "      <td>1.49m</td>\n",
       "      <td>78.85m</td>\n",
       "      <td>2021</td>\n",
       "      <td>Apertura</td>\n",
       "      <td>2021/2022</td>\n",
       "    </tr>\n",
       "    <tr>\n",
       "      <th>4</th>\n",
       "      <td>Deportivo Guadalajara</td>\n",
       "      <td>53.0</td>\n",
       "      <td>24.1</td>\n",
       "      <td>1</td>\n",
       "      <td>1.49m</td>\n",
       "      <td>78.85m</td>\n",
       "      <td>2021</td>\n",
       "      <td>Clausura</td>\n",
       "      <td>2021/2022</td>\n",
       "    </tr>\n",
       "    <tr>\n",
       "      <th>5</th>\n",
       "      <td>Deportivo Guadalajara</td>\n",
       "      <td>39.0</td>\n",
       "      <td>25.5</td>\n",
       "      <td>0</td>\n",
       "      <td>1.64m</td>\n",
       "      <td>64.10m</td>\n",
       "      <td>2020</td>\n",
       "      <td>Apertura</td>\n",
       "      <td>2020/2021</td>\n",
       "    </tr>\n",
       "    <tr>\n",
       "      <th>5</th>\n",
       "      <td>Deportivo Guadalajara</td>\n",
       "      <td>39.0</td>\n",
       "      <td>25.5</td>\n",
       "      <td>0</td>\n",
       "      <td>1.64m</td>\n",
       "      <td>64.10m</td>\n",
       "      <td>2020</td>\n",
       "      <td>Clausura</td>\n",
       "      <td>2020/2021</td>\n",
       "    </tr>\n",
       "    <tr>\n",
       "      <th>4</th>\n",
       "      <td>Deportivo Guadalajara</td>\n",
       "      <td>42.0</td>\n",
       "      <td>24.8</td>\n",
       "      <td>1</td>\n",
       "      <td>1.55m</td>\n",
       "      <td>65.13m</td>\n",
       "      <td>2019</td>\n",
       "      <td>Apertura</td>\n",
       "      <td>2019/2020</td>\n",
       "    </tr>\n",
       "    <tr>\n",
       "      <th>4</th>\n",
       "      <td>Deportivo Guadalajara</td>\n",
       "      <td>42.0</td>\n",
       "      <td>24.8</td>\n",
       "      <td>1</td>\n",
       "      <td>1.55m</td>\n",
       "      <td>65.13m</td>\n",
       "      <td>2019</td>\n",
       "      <td>Clausura</td>\n",
       "      <td>2019/2020</td>\n",
       "    </tr>\n",
       "    <tr>\n",
       "      <th>5</th>\n",
       "      <td>Deportivo Guadalajara</td>\n",
       "      <td>56.0</td>\n",
       "      <td>24.3</td>\n",
       "      <td>1</td>\n",
       "      <td>1.09m</td>\n",
       "      <td>61.30m</td>\n",
       "      <td>2018</td>\n",
       "      <td>Apertura</td>\n",
       "      <td>2018/2019</td>\n",
       "    </tr>\n",
       "    <tr>\n",
       "      <th>5</th>\n",
       "      <td>Deportivo Guadalajara</td>\n",
       "      <td>56.0</td>\n",
       "      <td>24.3</td>\n",
       "      <td>1</td>\n",
       "      <td>1.09m</td>\n",
       "      <td>61.30m</td>\n",
       "      <td>2018</td>\n",
       "      <td>Clausura</td>\n",
       "      <td>2018/2019</td>\n",
       "    </tr>\n",
       "  </tbody>\n",
       "</table>\n",
       "</div>"
      ],
      "text/plain": [
       "                    club  squad  avgAge foreigners avg_market_value  \\\n",
       "3  Deportivo Guadalajara   26.0    26.1          0            2.52m   \n",
       "3  Deportivo Guadalajara   26.0    26.1          0            2.52m   \n",
       "4  Deportivo Guadalajara   53.0    24.1          1            1.49m   \n",
       "4  Deportivo Guadalajara   53.0    24.1          1            1.49m   \n",
       "5  Deportivo Guadalajara   39.0    25.5          0            1.64m   \n",
       "5  Deportivo Guadalajara   39.0    25.5          0            1.64m   \n",
       "4  Deportivo Guadalajara   42.0    24.8          1            1.55m   \n",
       "4  Deportivo Guadalajara   42.0    24.8          1            1.55m   \n",
       "5  Deportivo Guadalajara   56.0    24.3          1            1.09m   \n",
       "5  Deportivo Guadalajara   56.0    24.3          1            1.09m   \n",
       "\n",
       "  total_market_value  year tournament     period  \n",
       "3             65.60m  2022   Apertura  2022/2023  \n",
       "3             65.60m  2022   Clausura  2022/2023  \n",
       "4             78.85m  2021   Apertura  2021/2022  \n",
       "4             78.85m  2021   Clausura  2021/2022  \n",
       "5             64.10m  2020   Apertura  2020/2021  \n",
       "5             64.10m  2020   Clausura  2020/2021  \n",
       "4             65.13m  2019   Apertura  2019/2020  \n",
       "4             65.13m  2019   Clausura  2019/2020  \n",
       "5             61.30m  2018   Apertura  2018/2019  \n",
       "5             61.30m  2018   Clausura  2018/2019  "
      ]
     },
     "execution_count": 7,
     "metadata": {},
     "output_type": "execute_result"
    }
   ],
   "source": [
    "teamsInfo[teamsInfo[\"club\"] == \"Deportivo Guadalajara\"]"
   ]
  },
  {
   "cell_type": "code",
   "execution_count": 8,
   "id": "864df894-182e-4627-95e7-8ef9aca47b80",
   "metadata": {
    "tags": []
   },
   "outputs": [],
   "source": [
    "teamsInfo.to_csv(\"teamsFeatures.csv\", encoding =\"latin-1\")"
   ]
  },
  {
   "cell_type": "code",
   "execution_count": 41,
   "id": "2ee71fbb-450f-4c0c-a932-379710ad8e60",
   "metadata": {
    "tags": []
   },
   "outputs": [
    {
     "data": {
      "text/plain": [
       "0     3.51m\n",
       "1     3.21m\n",
       "2     2.93m\n",
       "3     2.52m\n",
       "4     2.25m\n",
       "      ...  \n",
       "13     992k\n",
       "14     618k\n",
       "15     835k\n",
       "16     540k\n",
       "17     634k\n",
       "Name: avg_market_value, Length: 90, dtype: object"
      ]
     },
     "execution_count": 41,
     "metadata": {},
     "output_type": "execute_result"
    }
   ],
   "source": []
  },
  {
   "cell_type": "code",
   "execution_count": 47,
   "id": "b88484f1-a203-4068-a1f0-e67db09471f6",
   "metadata": {
    "tags": []
   },
   "outputs": [],
   "source": [
    "#teams_table=soup.select('table.items')[0]\n",
    "#team_features = pd.read_html(str(teams_table))\n",
    "\n",
    "league_urls, soup_clausura = getSeasonLeagueTeamsUrls(\"https://transfermarkt.com/liga-mx-apertura/startseite/wettbewerb/MEXA/saison_id/2022\")\n",
    "league_urls =list(set(league_urls))\n",
    "    "
   ]
  },
  {
   "cell_type": "code",
   "execution_count": 72,
   "id": "559311c3-a866-47fe-a9a2-cb9455793fb2",
   "metadata": {
    "tags": []
   },
   "outputs": [
    {
     "data": {
      "text/plain": [
       "[<h2 class=\"content-box-headline\">Info</h2>,\n",
       " <h2 class=\"content-box-headline\">\n",
       "         Clubs - Liga MX Apertura 22/23    </h2>,\n",
       " <h2 class=\"content-box-headline\">Top goalscorers</h2>,\n",
       " <h2 class=\"content-box-headline\">More News</h2>,\n",
       " <h2 class=\"content-box-headline\">Most valuable players in the league</h2>]"
      ]
     },
     "execution_count": 72,
     "metadata": {},
     "output_type": "execute_result"
    }
   ],
   "source": [
    "headlines = soup_clausura.select(\"h2.content-box-headline\")\n",
    "#headlines = headlines.select(\"h2.content-box-headline\")\n",
    "\n",
    "#headlines = [l.get(\"class\") for l in headlines]\n",
    "headlines\n",
    "\n",
    "#headlines = [l.get(\"class\") for l in headlines]\n",
    "#headlines = [l for l in headlines if l and 'all_comps/shooting/' in l]\n",
    "\n",
    "#element = soup_clausura.select('h2.content-box-headline')\n",
    "#element\n",
    "#soup_clausura"
   ]
  },
  {
   "cell_type": "code",
   "execution_count": 75,
   "id": "6379c1f3-0f44-4aa3-aaac-eb59854aa390",
   "metadata": {
    "tags": []
   },
   "outputs": [
    {
     "data": {
      "text/plain": [
       "bs4.element.ResultSet"
      ]
     },
     "execution_count": 75,
     "metadata": {},
     "output_type": "execute_result"
    }
   ],
   "source": [
    "type(headlines)"
   ]
  },
  {
   "cell_type": "code",
   "execution_count": 136,
   "id": "29f472b4-b1c6-4029-bdb5-08ed41623196",
   "metadata": {
    "tags": []
   },
   "outputs": [
    {
     "name": "stdout",
     "output_type": "stream",
     "text": [
      "Apertura 22/23\n"
     ]
    }
   ],
   "source": [
    "#headline = [h for h in headlines if re.compile('^*content*') in h]\n",
    "\n",
    "for h in list(headlines):\n",
    "    #if re.match('^More News*', h):\n",
    "    if 'Club' in h.string:\n",
    "        temp = h.string.strip()\n",
    "        temp = temp.replace('Clubs - Liga MX',\"\")\n",
    "        print(temp.strip())\n",
    "#headline"
   ]
  },
  {
   "cell_type": "code",
   "execution_count": 126,
   "id": "13cb4629-80ee-4cf6-8794-6cc8dd88e6fe",
   "metadata": {
    "tags": []
   },
   "outputs": [
    {
     "data": {
      "text/plain": [
       "[]"
      ]
     },
     "execution_count": 126,
     "metadata": {},
     "output_type": "execute_result"
    }
   ],
   "source": [
    "headlines1 = soup_clausura.find_all('h2', href=\"content-box-headline\")\n",
    "headlines1"
   ]
  },
  {
   "cell_type": "code",
   "execution_count": null,
   "id": "b7bf4a89-8392-465c-ac79-8957de74493c",
   "metadata": {
    "tags": []
   },
   "outputs": [],
   "source": [
    "teams_table=soup_clausura.select('table.items')[0]"
   ]
  },
  {
   "cell_type": "code",
   "execution_count": null,
   "id": "3e7cf170-d81e-4cc5-b997-682301479da8",
   "metadata": {
    "tags": []
   },
   "outputs": [],
   "source": [
    "test_data = req.get(pageClausura, headers = headers) #This was used "
   ]
  },
  {
   "cell_type": "code",
   "execution_count": null,
   "id": "3204c382-d617-43c9-9794-bce8f10c7495",
   "metadata": {
    "tags": []
   },
   "outputs": [],
   "source": [
    "team_features = pd.read_html(test_data.text ,match = 'Squad')[0]\n"
   ]
  },
  {
   "cell_type": "code",
   "execution_count": null,
   "id": "9a584c6d-53a1-437b-ba75-d460c524c6b6",
   "metadata": {
    "tags": []
   },
   "outputs": [],
   "source": [
    "del team_features[\"Club\"]\n",
    "del team_features[\"Total market value\"]\n",
    "team_features = team_features.drop(team_features.index[-1])\n"
   ]
  },
  {
   "cell_type": "code",
   "execution_count": null,
   "id": "c155a6a2-a0fd-4c8c-8bdf-1970ffa845ac",
   "metadata": {
    "tags": []
   },
   "outputs": [],
   "source": [
    "team_features.columns = [\"Club\",\"squad\",\"avgAge\",\"foreigners\",\"avg_market_value\",\"total_market_value\"]"
   ]
  },
  {
   "cell_type": "code",
   "execution_count": 22,
   "id": "31ba8c26-6c4d-4445-8cac-1c5c57af2c01",
   "metadata": {
    "tags": []
   },
   "outputs": [
    {
     "ename": "NameError",
     "evalue": "name 'team_features' is not defined",
     "output_type": "error",
     "traceback": [
      "\u001b[1;31m---------------------------------------------------------------------------\u001b[0m",
      "\u001b[1;31mNameError\u001b[0m                                 Traceback (most recent call last)",
      "Cell \u001b[1;32mIn[22], line 1\u001b[0m\n\u001b[1;32m----> 1\u001b[0m \u001b[43mteam_features\u001b[49m\n",
      "\u001b[1;31mNameError\u001b[0m: name 'team_features' is not defined"
     ]
    }
   ],
   "source": [
    "team_features"
   ]
  },
  {
   "cell_type": "code",
   "execution_count": null,
   "id": "bd978be0-46fd-4c9b-aa18-6022a79e72ed",
   "metadata": {
    "tags": []
   },
   "outputs": [],
   "source": [
    "#teams_table\n",
    "league_urls =list(set(league_urls))\n"
   ]
  },
  {
   "cell_type": "code",
   "execution_count": null,
   "id": "8c77d1d5-0487-4ce3-912e-e6a5793e8e11",
   "metadata": {
    "tags": []
   },
   "outputs": [],
   "source": [
    "#teams_table\n",
    "#soup_clausura\n",
    "\n",
    "#team_features = pd.read_html(str(teams_table))[0]\n",
    "team_features = pd.read_html(soup_clausura,match = 'Squad')[0]\n",
    "\n",
    "#match = \"%Clubs%Liga MX Clausura 22/23%\""
   ]
  },
  {
   "cell_type": "code",
   "execution_count": null,
   "id": "d63ec1be-0519-4e5f-b963-ba54721a5056",
   "metadata": {
    "tags": []
   },
   "outputs": [],
   "source": [
    "team_features"
   ]
  },
  {
   "cell_type": "code",
   "execution_count": null,
   "id": "07581aa1-5b5d-4362-b541-d5290ac48e46",
   "metadata": {
    "tags": []
   },
   "outputs": [],
   "source": [
    "teams_table"
   ]
  },
  {
   "cell_type": "code",
   "execution_count": null,
   "id": "0b7cef45-5bdb-4a26-996f-2cedb46cafea",
   "metadata": {
    "tags": []
   },
   "outputs": [],
   "source": [
    "from urllib import request as u_r\n",
    "\n",
    "def strip_website():\n",
    "\n",
    "    request = u_r.Request(\"https://www.transfermarkt.com/marco-reus/verletzungen/spieler/35207\")\n",
    "    request.add_header('User-Agent', 'my-cool-app')\n",
    "    with u_r.urlopen(request) as f:\n",
    "        pass"
   ]
  },
  {
   "cell_type": "code",
   "execution_count": null,
   "id": "13e7205e-94f2-4ff4-a860-9de1e601c0b7",
   "metadata": {},
   "outputs": [],
   "source": [
    "strip_website"
   ]
  },
  {
   "cell_type": "code",
   "execution_count": null,
   "id": "da9a6824-6d0f-41f2-8acf-8fc38d8773f8",
   "metadata": {},
   "outputs": [],
   "source": [
    "with u_r.urlopen(\"https://www.transfermarkt.com\") as response:\n",
    "    html = response.read"
   ]
  },
  {
   "cell_type": "code",
   "execution_count": null,
   "id": "cd76bcad-018d-439f-88ae-31b93bfd5371",
   "metadata": {},
   "outputs": [],
   "source": [
    "'''\n",
    "#Retrieving team links\n",
    "links = teams_table.find_all('a')\n",
    "links = [l.get(\"href\") for l in links]\n",
    "links = [l for l in links if '/startseite/verein/' in l]\n",
    "\n",
    "league_urls = [f\"https://transfermarkt.com{l}\" for l in links]\n",
    "'''"
   ]
  },
  {
   "cell_type": "code",
   "execution_count": 156,
   "id": "8879d243-33b8-471e-a445-fd0a9e374181",
   "metadata": {
    "tags": []
   },
   "outputs": [
    {
     "data": {
      "text/plain": [
       "'2022/2023'"
      ]
     },
     "execution_count": 156,
     "metadata": {},
     "output_type": "execute_result"
    }
   ],
   "source": [
    "url = \"https://transfermarkt.com/liga-mx-apertura/startseite/wettbewerb/MEXA/saison_id/2022\"\n",
    "year = url[-4: ]\n",
    "#type(year)\n",
    "year + \"/\" + str( int(year) + 1)"
   ]
  },
  {
   "cell_type": "code",
   "execution_count": 159,
   "id": "029574a3-930c-4ee2-b7ec-b49b608c7f93",
   "metadata": {
    "tags": []
   },
   "outputs": [],
   "source": [
    "def extractTournamentName(url):\n",
    "    year = url[-4: ]\n",
    "    tournamentName = \"Apertura \" if 'MEXA' in url else \"Clausura \"\n",
    "    years = year + \"/\" + str( int(year) + 1)\n",
    "    return tournamentName + years"
   ]
  },
  {
   "cell_type": "code",
   "execution_count": 161,
   "id": "3e8449de-10ec-486b-9f7c-c899fa5c79af",
   "metadata": {
    "tags": []
   },
   "outputs": [
    {
     "data": {
      "text/plain": [
       "'Clausura 2022/2023'"
      ]
     },
     "execution_count": 161,
     "metadata": {},
     "output_type": "execute_result"
    }
   ],
   "source": [
    "extractTournamentName(\"https://transfermarkt.com/liga-mx-apertura/startseite/wettbewerb/MEX1/saison_id/2022\")"
   ]
  },
  {
   "cell_type": "code",
   "execution_count": null,
   "id": "aedd3c38-8665-4c53-aa66-2cf2f3c97970",
   "metadata": {},
   "outputs": [],
   "source": []
  }
 ],
 "metadata": {
  "kernelspec": {
   "display_name": "Python 3 (ipykernel)",
   "language": "python",
   "name": "python3"
  },
  "language_info": {
   "codemirror_mode": {
    "name": "ipython",
    "version": 3
   },
   "file_extension": ".py",
   "mimetype": "text/x-python",
   "name": "python",
   "nbconvert_exporter": "python",
   "pygments_lexer": "ipython3",
   "version": "3.8.16"
  }
 },
 "nbformat": 4,
 "nbformat_minor": 5
}
