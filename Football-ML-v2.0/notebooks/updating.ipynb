{
 "cells": [
  {
   "cell_type": "code",
   "execution_count": null,
   "id": "043d92d8-f49a-40d1-b3fd-9c7f7d546566",
   "metadata": {
    "tags": []
   },
   "outputs": [],
   "source": [
    "import pandas as pd\n",
    "import import_ipynb\n",
    "#from fbrefScraping import extractFromFBRef\n",
    "import fbrefScraping as fbrscrap\n",
    "import logging as log\n",
    "\n",
    "#import requests as req\n",
    "#from bs4 import BeautifulSoup\n",
    "#import time\n",
    "#import numpy as np\n",
    "#import lxml\n",
    "#import chardet\n",
    "#import datetime\n",
    "\n",
    "#from latest_fbref_url = 'https://fbref.com/en/comps/31/Liga-MX-Stats'\n"
   ]
  },
  {
   "cell_type": "code",
   "execution_count": null,
   "id": "5bd97d7c-9e6e-4d9f-9664-eb782b59b420",
   "metadata": {
    "tags": []
   },
   "outputs": [],
   "source": [
    "def updateMatches(baseFile, newFile):    \n",
    "    \n",
    "    thisSeasonMatches = extractFromFBRef(latest_fbref_url)  \n",
    "    baseDf = pd.read_csv(baseFile)\n",
    "    \n",
    "    updatedDf = pd.concat([baseDf,thisSeasonMatches], ignore_index= True)\n",
    "    updatedDf = updatedDf.drop_duplicates(subset  = [\"date\",\"team_name\"],    \\\n",
    "                                          keep    = 'last',                  \\\n",
    "                                          inplace = False)\n",
    "\n",
    "    updatedDf.to_csv(newFile, index=False)\n",
    "    log.info('Updated csv file called %s created successfully', newFile)"
   ]
  }
 ],
 "metadata": {
  "kernelspec": {
   "display_name": "Python 3 (ipykernel)",
   "language": "python",
   "name": "python3"
  },
  "language_info": {
   "codemirror_mode": {
    "name": "ipython",
    "version": 3
   },
   "file_extension": ".py",
   "mimetype": "text/x-python",
   "name": "python",
   "nbconvert_exporter": "python",
   "pygments_lexer": "ipython3",
   "version": "3.8.16"
  }
 },
 "nbformat": 4,
 "nbformat_minor": 5
}
