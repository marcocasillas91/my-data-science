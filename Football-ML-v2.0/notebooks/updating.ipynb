{
 "cells": [
  {
   "cell_type": "code",
   "execution_count": 1,
   "id": "9cec5efe-70b1-408a-bed5-8e0f0f7c548e",
   "metadata": {
    "tags": []
   },
   "outputs": [
    {
     "name": "stdout",
     "output_type": "stream",
     "text": [
      "Requirement already satisfied: import-ipynb in d:\\programas\\jupyterlab-desktop\\jlab_server\\lib\\site-packages (0.1.4)Note: you may need to restart the kernel to use updated packages.\n",
      "\n",
      "Requirement already satisfied: nbformat in d:\\programas\\jupyterlab-desktop\\jlab_server\\lib\\site-packages (from import-ipynb) (5.7.3)\n",
      "Requirement already satisfied: IPython in d:\\programas\\jupyterlab-desktop\\jlab_server\\lib\\site-packages (from import-ipynb) (8.9.0)\n",
      "Requirement already satisfied: decorator in d:\\programas\\jupyterlab-desktop\\jlab_server\\lib\\site-packages (from IPython->import-ipynb) (5.1.1)\n",
      "Requirement already satisfied: matplotlib-inline in d:\\programas\\jupyterlab-desktop\\jlab_server\\lib\\site-packages (from IPython->import-ipynb) (0.1.6)\n",
      "Requirement already satisfied: prompt-toolkit<3.1.0,>=3.0.30 in d:\\programas\\jupyterlab-desktop\\jlab_server\\lib\\site-packages (from IPython->import-ipynb) (3.0.36)\n",
      "Requirement already satisfied: backcall in d:\\programas\\jupyterlab-desktop\\jlab_server\\lib\\site-packages (from IPython->import-ipynb) (0.2.0)\n",
      "Requirement already satisfied: traitlets>=5 in d:\\programas\\jupyterlab-desktop\\jlab_server\\lib\\site-packages (from IPython->import-ipynb) (5.9.0)\n",
      "Requirement already satisfied: pygments>=2.4.0 in d:\\programas\\jupyterlab-desktop\\jlab_server\\lib\\site-packages (from IPython->import-ipynb) (2.14.0)\n",
      "Requirement already satisfied: stack-data in d:\\programas\\jupyterlab-desktop\\jlab_server\\lib\\site-packages (from IPython->import-ipynb) (0.6.2)\n",
      "Requirement already satisfied: jedi>=0.16 in d:\\programas\\jupyterlab-desktop\\jlab_server\\lib\\site-packages (from IPython->import-ipynb) (0.18.2)\n",
      "Requirement already satisfied: pickleshare in d:\\programas\\jupyterlab-desktop\\jlab_server\\lib\\site-packages (from IPython->import-ipynb) (0.7.5)\n",
      "Requirement already satisfied: colorama in d:\\programas\\jupyterlab-desktop\\jlab_server\\lib\\site-packages (from IPython->import-ipynb) (0.4.6)\n",
      "Requirement already satisfied: jupyter-core in d:\\programas\\jupyterlab-desktop\\jlab_server\\lib\\site-packages (from nbformat->import-ipynb) (5.2.0)\n",
      "Requirement already satisfied: fastjsonschema in d:\\programas\\jupyterlab-desktop\\jlab_server\\lib\\site-packages (from nbformat->import-ipynb) (2.16.2)\n",
      "Requirement already satisfied: jsonschema>=2.6 in d:\\programas\\jupyterlab-desktop\\jlab_server\\lib\\site-packages (from nbformat->import-ipynb) (4.17.3)\n",
      "Requirement already satisfied: parso<0.9.0,>=0.8.0 in d:\\programas\\jupyterlab-desktop\\jlab_server\\lib\\site-packages (from jedi>=0.16->IPython->import-ipynb) (0.8.3)\n",
      "Requirement already satisfied: attrs>=17.4.0 in d:\\programas\\jupyterlab-desktop\\jlab_server\\lib\\site-packages (from jsonschema>=2.6->nbformat->import-ipynb) (22.2.0)\n",
      "Requirement already satisfied: pyrsistent!=0.17.0,!=0.17.1,!=0.17.2,>=0.14.0 in d:\\programas\\jupyterlab-desktop\\jlab_server\\lib\\site-packages (from jsonschema>=2.6->nbformat->import-ipynb) (0.19.3)\n",
      "Requirement already satisfied: pkgutil-resolve-name>=1.3.10 in d:\\programas\\jupyterlab-desktop\\jlab_server\\lib\\site-packages (from jsonschema>=2.6->nbformat->import-ipynb) (1.3.10)\n",
      "Requirement already satisfied: importlib-resources>=1.4.0 in d:\\programas\\jupyterlab-desktop\\jlab_server\\lib\\site-packages (from jsonschema>=2.6->nbformat->import-ipynb) (5.10.2)\n",
      "Requirement already satisfied: wcwidth in d:\\programas\\jupyterlab-desktop\\jlab_server\\lib\\site-packages (from prompt-toolkit<3.1.0,>=3.0.30->IPython->import-ipynb) (0.2.6)\n",
      "Requirement already satisfied: pywin32>=1.0 in d:\\programas\\jupyterlab-desktop\\jlab_server\\lib\\site-packages (from jupyter-core->nbformat->import-ipynb) (304)\n",
      "Requirement already satisfied: platformdirs>=2.5 in d:\\programas\\jupyterlab-desktop\\jlab_server\\lib\\site-packages (from jupyter-core->nbformat->import-ipynb) (3.0.0)\n",
      "Requirement already satisfied: asttokens>=2.1.0 in d:\\programas\\jupyterlab-desktop\\jlab_server\\lib\\site-packages (from stack-data->IPython->import-ipynb) (2.2.1)\n",
      "Requirement already satisfied: executing>=1.2.0 in d:\\programas\\jupyterlab-desktop\\jlab_server\\lib\\site-packages (from stack-data->IPython->import-ipynb) (1.2.0)\n",
      "Requirement already satisfied: pure-eval in d:\\programas\\jupyterlab-desktop\\jlab_server\\lib\\site-packages (from stack-data->IPython->import-ipynb) (0.2.2)\n",
      "Requirement already satisfied: six in d:\\programas\\jupyterlab-desktop\\jlab_server\\lib\\site-packages (from asttokens>=2.1.0->stack-data->IPython->import-ipynb) (1.16.0)\n",
      "Requirement already satisfied: zipp>=3.1.0 in d:\\programas\\jupyterlab-desktop\\jlab_server\\lib\\site-packages (from importlib-resources>=1.4.0->jsonschema>=2.6->nbformat->import-ipynb) (3.12.1)\n"
     ]
    }
   ],
   "source": [
    "pip install import-ipynb\n"
   ]
  },
  {
   "cell_type": "code",
   "execution_count": 4,
   "id": "043d92d8-f49a-40d1-b3fd-9c7f7d546566",
   "metadata": {
    "tags": []
   },
   "outputs": [
    {
     "name": "stdout",
     "output_type": "stream",
     "text": [
      "importing Jupyter notebook from fbrefScraping.ipynb\n"
     ]
    },
    {
     "ename": "KeyboardInterrupt",
     "evalue": "",
     "output_type": "error",
     "traceback": [
      "\u001b[1;31m---------------------------------------------------------------------------\u001b[0m",
      "\u001b[1;31mKeyboardInterrupt\u001b[0m                         Traceback (most recent call last)",
      "Cell \u001b[1;32mIn[4], line 4\u001b[0m\n\u001b[0;32m      2\u001b[0m \u001b[38;5;28;01mimport\u001b[39;00m \u001b[38;5;21;01mimport_ipynb\u001b[39;00m\n\u001b[0;32m      3\u001b[0m \u001b[38;5;66;03m#from fbrefScraping import extractFromFBRef\u001b[39;00m\n\u001b[1;32m----> 4\u001b[0m \u001b[38;5;28;01mimport\u001b[39;00m \u001b[38;5;21;01mfbrefScraping\u001b[39;00m \u001b[38;5;28;01mas\u001b[39;00m \u001b[38;5;21;01mfbrscrap\u001b[39;00m\n\u001b[0;32m      5\u001b[0m \u001b[38;5;28;01mimport\u001b[39;00m \u001b[38;5;21;01mlogging\u001b[39;00m \u001b[38;5;28;01mas\u001b[39;00m \u001b[38;5;21;01mlog\u001b[39;00m\n\u001b[0;32m      7\u001b[0m \u001b[38;5;66;03m#import requests as req\u001b[39;00m\n\u001b[0;32m      8\u001b[0m \u001b[38;5;66;03m#from bs4 import BeautifulSoup\u001b[39;00m\n\u001b[0;32m      9\u001b[0m \u001b[38;5;66;03m#import time\u001b[39;00m\n\u001b[1;32m   (...)\u001b[0m\n\u001b[0;32m     14\u001b[0m \n\u001b[0;32m     15\u001b[0m \u001b[38;5;66;03m#from latest_fbref_url = 'https://fbref.com/en/comps/31/Liga-MX-Stats'\u001b[39;00m\n",
      "File \u001b[1;32m<frozen importlib._bootstrap>:991\u001b[0m, in \u001b[0;36m_find_and_load\u001b[1;34m(name, import_)\u001b[0m\n",
      "File \u001b[1;32m<frozen importlib._bootstrap>:975\u001b[0m, in \u001b[0;36m_find_and_load_unlocked\u001b[1;34m(name, import_)\u001b[0m\n",
      "File \u001b[1;32m<frozen importlib._bootstrap>:655\u001b[0m, in \u001b[0;36m_load_unlocked\u001b[1;34m(spec)\u001b[0m\n",
      "File \u001b[1;32m<frozen importlib._bootstrap>:618\u001b[0m, in \u001b[0;36m_load_backward_compatible\u001b[1;34m(spec)\u001b[0m\n",
      "File \u001b[1;32mD:\\Programas\\jupyterlab-desktop\\jlab_server\\lib\\site-packages\\import_ipynb.py:61\u001b[0m, in \u001b[0;36mNotebookLoader.load_module\u001b[1;34m(self, fullname)\u001b[0m\n\u001b[0;32m     59\u001b[0m         code \u001b[38;5;241m=\u001b[39m \u001b[38;5;28mself\u001b[39m\u001b[38;5;241m.\u001b[39mshell\u001b[38;5;241m.\u001b[39minput_transformer_manager\u001b[38;5;241m.\u001b[39mtransform_cell(cell\u001b[38;5;241m.\u001b[39msource)\n\u001b[0;32m     60\u001b[0m         \u001b[38;5;66;03m# run the code in themodule\u001b[39;00m\n\u001b[1;32m---> 61\u001b[0m         \u001b[43mexec\u001b[49m\u001b[43m(\u001b[49m\u001b[43mcode\u001b[49m\u001b[43m,\u001b[49m\u001b[43m \u001b[49m\u001b[43mmod\u001b[49m\u001b[38;5;241;43m.\u001b[39;49m\u001b[38;5;18;43m__dict__\u001b[39;49m\u001b[43m)\u001b[49m\n\u001b[0;32m     62\u001b[0m \u001b[38;5;28;01mfinally\u001b[39;00m:\n\u001b[0;32m     63\u001b[0m     \u001b[38;5;28mself\u001b[39m\u001b[38;5;241m.\u001b[39mshell\u001b[38;5;241m.\u001b[39muser_ns \u001b[38;5;241m=\u001b[39m save_user_ns\n",
      "File \u001b[1;32m<string>:1\u001b[0m\n",
      "File \u001b[1;32m<string>:3\u001b[0m, in \u001b[0;36mupdateMatches\u001b[1;34m(baseFile, newFile)\u001b[0m\n",
      "File \u001b[1;32m<string>:28\u001b[0m, in \u001b[0;36mextractFromFBRef\u001b[1;34m(baseUrl, years)\u001b[0m\n",
      "File \u001b[1;32m<string>:3\u001b[0m, in \u001b[0;36mgetShooting\u001b[1;34m(team_data)\u001b[0m\n",
      "File \u001b[1;32mD:\\Programas\\jupyterlab-desktop\\jlab_server\\lib\\site-packages\\bs4\\__init__.py:333\u001b[0m, in \u001b[0;36mBeautifulSoup.__init__\u001b[1;34m(self, markup, features, builder, parse_only, from_encoding, exclude_encodings, element_classes, **kwargs)\u001b[0m\n\u001b[0;32m    331\u001b[0m \u001b[38;5;28mself\u001b[39m\u001b[38;5;241m.\u001b[39mbuilder\u001b[38;5;241m.\u001b[39minitialize_soup(\u001b[38;5;28mself\u001b[39m)\n\u001b[0;32m    332\u001b[0m \u001b[38;5;28;01mtry\u001b[39;00m:\n\u001b[1;32m--> 333\u001b[0m     \u001b[38;5;28;43mself\u001b[39;49m\u001b[38;5;241;43m.\u001b[39;49m\u001b[43m_feed\u001b[49m\u001b[43m(\u001b[49m\u001b[43m)\u001b[49m\n\u001b[0;32m    334\u001b[0m     success \u001b[38;5;241m=\u001b[39m \u001b[38;5;28;01mTrue\u001b[39;00m\n\u001b[0;32m    335\u001b[0m     \u001b[38;5;28;01mbreak\u001b[39;00m\n",
      "File \u001b[1;32mD:\\Programas\\jupyterlab-desktop\\jlab_server\\lib\\site-packages\\bs4\\__init__.py:452\u001b[0m, in \u001b[0;36mBeautifulSoup._feed\u001b[1;34m(self)\u001b[0m\n\u001b[0;32m    449\u001b[0m \u001b[38;5;66;03m# Convert the document to Unicode.\u001b[39;00m\n\u001b[0;32m    450\u001b[0m \u001b[38;5;28mself\u001b[39m\u001b[38;5;241m.\u001b[39mbuilder\u001b[38;5;241m.\u001b[39mreset()\n\u001b[1;32m--> 452\u001b[0m \u001b[38;5;28;43mself\u001b[39;49m\u001b[38;5;241;43m.\u001b[39;49m\u001b[43mbuilder\u001b[49m\u001b[38;5;241;43m.\u001b[39;49m\u001b[43mfeed\u001b[49m\u001b[43m(\u001b[49m\u001b[38;5;28;43mself\u001b[39;49m\u001b[38;5;241;43m.\u001b[39;49m\u001b[43mmarkup\u001b[49m\u001b[43m)\u001b[49m\n\u001b[0;32m    453\u001b[0m \u001b[38;5;66;03m# Close out any unfinished strings and close all the open tags.\u001b[39;00m\n\u001b[0;32m    454\u001b[0m \u001b[38;5;28mself\u001b[39m\u001b[38;5;241m.\u001b[39mendData()\n",
      "File \u001b[1;32mD:\\Programas\\jupyterlab-desktop\\jlab_server\\lib\\site-packages\\bs4\\builder\\_lxml.py:378\u001b[0m, in \u001b[0;36mLXMLTreeBuilder.feed\u001b[1;34m(self, markup)\u001b[0m\n\u001b[0;32m    376\u001b[0m \u001b[38;5;28;01mtry\u001b[39;00m:\n\u001b[0;32m    377\u001b[0m     \u001b[38;5;28mself\u001b[39m\u001b[38;5;241m.\u001b[39mparser \u001b[38;5;241m=\u001b[39m \u001b[38;5;28mself\u001b[39m\u001b[38;5;241m.\u001b[39mparser_for(encoding)\n\u001b[1;32m--> 378\u001b[0m     \u001b[38;5;28;43mself\u001b[39;49m\u001b[38;5;241;43m.\u001b[39;49m\u001b[43mparser\u001b[49m\u001b[38;5;241;43m.\u001b[39;49m\u001b[43mfeed\u001b[49m\u001b[43m(\u001b[49m\u001b[43mmarkup\u001b[49m\u001b[43m)\u001b[49m\n\u001b[0;32m    379\u001b[0m     \u001b[38;5;28mself\u001b[39m\u001b[38;5;241m.\u001b[39mparser\u001b[38;5;241m.\u001b[39mclose()\n\u001b[0;32m    380\u001b[0m \u001b[38;5;28;01mexcept\u001b[39;00m (\u001b[38;5;167;01mUnicodeDecodeError\u001b[39;00m, \u001b[38;5;167;01mLookupError\u001b[39;00m, etree\u001b[38;5;241m.\u001b[39mParserError) \u001b[38;5;28;01mas\u001b[39;00m e:\n",
      "File \u001b[1;32msrc\\lxml\\parser.pxi:1259\u001b[0m, in \u001b[0;36mlxml.etree._FeedParser.feed\u001b[1;34m()\u001b[0m\n",
      "File \u001b[1;32msrc\\lxml\\parser.pxi:1379\u001b[0m, in \u001b[0;36mlxml.etree._FeedParser.feed\u001b[1;34m()\u001b[0m\n",
      "File \u001b[1;32msrc\\lxml\\parsertarget.pxi:168\u001b[0m, in \u001b[0;36mlxml.etree._TargetParserContext._handleParseResult\u001b[1;34m()\u001b[0m\n",
      "File \u001b[1;32msrc\\lxml\\parsertarget.pxi:156\u001b[0m, in \u001b[0;36mlxml.etree._TargetParserContext._handleParseResult\u001b[1;34m()\u001b[0m\n",
      "File \u001b[1;32msrc\\lxml\\etree.pyx:334\u001b[0m, in \u001b[0;36mlxml.etree._ExceptionContext._raise_if_stored\u001b[1;34m()\u001b[0m\n",
      "File \u001b[1;32msrc\\lxml\\saxparser.pxi:443\u001b[0m, in \u001b[0;36mlxml.etree._handleSaxTargetStartNoNs\u001b[1;34m()\u001b[0m\n",
      "File \u001b[1;32msrc\\lxml\\saxparser.pxi:458\u001b[0m, in \u001b[0;36mlxml.etree._callTargetSaxStart\u001b[1;34m()\u001b[0m\n",
      "File \u001b[1;32msrc\\lxml\\parsertarget.pxi:94\u001b[0m, in \u001b[0;36mlxml.etree._PythonSaxParserTarget._handleSaxStart\u001b[1;34m()\u001b[0m\n",
      "File \u001b[1;32mD:\\Programas\\jupyterlab-desktop\\jlab_server\\lib\\site-packages\\bs4\\builder\\_lxml.py:243\u001b[0m, in \u001b[0;36mLXMLTreeBuilderForXML.start\u001b[1;34m(self, name, attrs, nsmap)\u001b[0m\n\u001b[0;32m    240\u001b[0m \u001b[38;5;28;01mdef\u001b[39;00m \u001b[38;5;21mclose\u001b[39m(\u001b[38;5;28mself\u001b[39m):\n\u001b[0;32m    241\u001b[0m     \u001b[38;5;28mself\u001b[39m\u001b[38;5;241m.\u001b[39mnsmaps \u001b[38;5;241m=\u001b[39m [\u001b[38;5;28mself\u001b[39m\u001b[38;5;241m.\u001b[39mDEFAULT_NSMAPS_INVERTED]\n\u001b[1;32m--> 243\u001b[0m \u001b[38;5;28;01mdef\u001b[39;00m \u001b[38;5;21mstart\u001b[39m(\u001b[38;5;28mself\u001b[39m, name, attrs, nsmap\u001b[38;5;241m=\u001b[39m{}):\n\u001b[0;32m    244\u001b[0m     \u001b[38;5;66;03m# Make sure attrs is a mutable dict--lxml may send an immutable dictproxy.\u001b[39;00m\n\u001b[0;32m    245\u001b[0m     attrs \u001b[38;5;241m=\u001b[39m \u001b[38;5;28mdict\u001b[39m(attrs)\n\u001b[0;32m    246\u001b[0m     nsprefix \u001b[38;5;241m=\u001b[39m \u001b[38;5;28;01mNone\u001b[39;00m\n",
      "\u001b[1;31mKeyboardInterrupt\u001b[0m: "
     ]
    }
   ],
   "source": [
    "import pandas as pd\n",
    "import import_ipynb\n",
    "#from fbrefScraping import extractFromFBRef\n",
    "import fbrefScraping as fbrscrap\n",
    "import logging as log\n",
    "\n",
    "#import requests as req\n",
    "#from bs4 import BeautifulSoup\n",
    "#import time\n",
    "#import numpy as np\n",
    "#import lxml\n",
    "#import chardet\n",
    "#import datetime\n",
    "\n",
    "#from latest_fbref_url = 'https://fbref.com/en/comps/31/Liga-MX-Stats'\n"
   ]
  },
  {
   "cell_type": "code",
   "execution_count": null,
   "id": "1ee40b8b-2db5-4037-8d1e-badb1cf4bf51",
   "metadata": {},
   "outputs": [],
   "source": []
  },
  {
   "cell_type": "code",
   "execution_count": 4,
   "id": "5bd97d7c-9e6e-4d9f-9664-eb782b59b420",
   "metadata": {
    "tags": []
   },
   "outputs": [],
   "source": [
    "def updateMatches(baseFile, newFile):    \n",
    "    \n",
    "    thisSeasonMatches = extractFromFBRef(latest_fbref_url)  \n",
    "    baseDf = pd.read_csv(baseFile)\n",
    "    \n",
    "    updatedDf = pd.concat([baseDf,thisSeasonMatches], ignore_index= True)\n",
    "    updatedDf = updatedDf.drop_duplicates(subset  = [\"date\",\"team_name\"],    \\\n",
    "                                          keep    = 'last',                  \\\n",
    "                                          inplace = False)\n",
    "\n",
    "    updatedDf.to_csv(newFile, index=False)\n",
    "    log.info('Updated csv file called %s created successfully', newFile)"
   ]
  },
  {
   "cell_type": "code",
   "execution_count": 8,
   "id": "3bd61581-ad86-46b0-ab4f-545a3c8f7981",
   "metadata": {
    "tags": []
   },
   "outputs": [],
   "source": [
    "import requests\n",
    "import json\n",
    "url = \"https://transfermarket.p.rapidapi.com/matches/list-by-club\"\n",
    "\n",
    "querystring = {\"id\":\"2261\",\"domain\":\"de\"}\n",
    "\n",
    "headers = {\n",
    "\t\"X-RapidAPI-Key\": \"455b475312msh8fec1d9a834d3cdp16cf7ejsn63be8223043d\",\n",
    "\t\"X-RapidAPI-Host\": \"transfermarket.p.rapidapi.com\"\n",
    "}\n",
    "\n",
    "response = requests.request(\"GET\", url, headers=headers, params=querystring)\n",
    "\n",
    "#print(response.text)\n",
    "info = json.loads(response.text)"
   ]
  },
  {
   "cell_type": "code",
   "execution_count": 9,
   "id": "e792e14d-7a4d-4660-a461-adb1951c1570",
   "metadata": {
    "tags": []
   },
   "outputs": [
    {
     "data": {
      "text/plain": [
       "{'seasonID': 2022,\n",
       " 'id': 2261,\n",
       " 'clubName': 'FSV Saarwellingen',\n",
       " 'share': {'title': 'FSV Saarwellingen - Spielplan',\n",
       "  'url': 'https://www.transfermarkt.de/fsv-saarwellingen/spielplan/verein/2261/saison_id/2022',\n",
       "  'description': 'Diese Seite enthält eine komplette Übersicht aller absolvierten und bereits terminierten Saisonspiele sowie die Saisonbilanz von FSV Saarwellingen.'},\n",
       " 'playClubMatches': []}"
      ]
     },
     "execution_count": 9,
     "metadata": {},
     "output_type": "execute_result"
    }
   ],
   "source": [
    "info"
   ]
  },
  {
   "cell_type": "code",
   "execution_count": 12,
   "id": "f5a44479-e6cd-4a51-a19f-e265689d0634",
   "metadata": {
    "tags": []
   },
   "outputs": [
    {
     "name": "stdout",
     "output_type": "stream",
     "text": [
      "{\"competition\":{\"id\":\"GB1\",\"competitionName\":\"Premier League\",\"marketValue\":\"10,31\",\"marketValueCurrency\":\"\\u20ac\",\"marketValueNumeral\":\"Mrd.\",\"marketValueUnformatted\":10306600000,\"competitionImage\":\"https:\\/\\/tmssl.akamaized.net\\/images\\/logo\\/normal\\/gb1.png?lm=1521104656\",\"hasTable\":true,\"trophy\":\"https:\\/\\/tmssl.akamaized.net\\/images\\/erfolge\\/medium\\/12.png?lm=1520606997\",\"seasonId\":\"2022\",\"season\":\"22\\/23\",\"tournamentFlag\":\"0\",\"currentMatchDay\":27,\"competitionTypeID\":\"1\",\"currentChampionID\":\"281\",\"currentChampionName\":\"Manchester City\",\"currentChampionImage\":\"https:\\/\\/tmssl.akamaized.net\\/images\\/wappen\\/medium\\/281.png?lm=1467356331\",\"internationalFlag\":\"0\",\"competitionCountryID\":\"189\",\"competitionCountryImage\":\"https:\\/\\/tmssl.akamaized.net\\/images\\/flagge\\/verysmall\\/189.png?lm=1520611569\",\"competitionCountryName\":\"England\",\"leagueLevel\":\"1.Liga\",\"mostValuablePlayerID\":\"418560\",\"mostValuablePlayerName\":\"Erling Haaland\",\"mostValuablePlayerMarketValue\":\"170,00\",\"mostValuablePlayerMarketValueCurrency\":\"\\u20ac\",\"mostValuablePlayerMarketValueNumeral\":\"Mio.\",\"mostValuableClubID\":\"281\",\"mostValuableClubName\":\"Manchester City\",\"mostValuableClubMarketValue\":\"1,05\",\"mostValuableClubMarketValueCurrency\":\"\\u20ac\",\"mostValuableClubMarketValueNumeral\":\"Mrd.\"}}\n"
     ]
    }
   ],
   "source": [
    "url = \"https://transfermarket.p.rapidapi.com/competitions/get-header-info\"\n",
    "\n",
    "querystring = {\"id\":\"GB1\",\"domain\":\"de\"}\n",
    "\n",
    "headers = {\n",
    "\t\"X-RapidAPI-Key\": \"455b475312msh8fec1d9a834d3cdp16cf7ejsn63be8223043d\",\n",
    "\t\"X-RapidAPI-Host\": \"transfermarket.p.rapidapi.com\"\n",
    "}\n",
    "\n",
    "response = requests.request(\"GET\", url, headers=headers, params=querystring)\n",
    "\n",
    "print(response.text)"
   ]
  },
  {
   "cell_type": "code",
   "execution_count": 13,
   "id": "f50df5f3-51cf-4c8f-865e-1bb2a228fbd0",
   "metadata": {
    "tags": []
   },
   "outputs": [
    {
     "data": {
      "text/plain": [
       "{'competition': {'id': 'GB1',\n",
       "  'competitionName': 'Premier League',\n",
       "  'marketValue': '10,31',\n",
       "  'marketValueCurrency': '€',\n",
       "  'marketValueNumeral': 'Mrd.',\n",
       "  'marketValueUnformatted': 10306600000,\n",
       "  'competitionImage': 'https://tmssl.akamaized.net/images/logo/normal/gb1.png?lm=1521104656',\n",
       "  'hasTable': True,\n",
       "  'trophy': 'https://tmssl.akamaized.net/images/erfolge/medium/12.png?lm=1520606997',\n",
       "  'seasonId': '2022',\n",
       "  'season': '22/23',\n",
       "  'tournamentFlag': '0',\n",
       "  'currentMatchDay': 27,\n",
       "  'competitionTypeID': '1',\n",
       "  'currentChampionID': '281',\n",
       "  'currentChampionName': 'Manchester City',\n",
       "  'currentChampionImage': 'https://tmssl.akamaized.net/images/wappen/medium/281.png?lm=1467356331',\n",
       "  'internationalFlag': '0',\n",
       "  'competitionCountryID': '189',\n",
       "  'competitionCountryImage': 'https://tmssl.akamaized.net/images/flagge/verysmall/189.png?lm=1520611569',\n",
       "  'competitionCountryName': 'England',\n",
       "  'leagueLevel': '1.Liga',\n",
       "  'mostValuablePlayerID': '418560',\n",
       "  'mostValuablePlayerName': 'Erling Haaland',\n",
       "  'mostValuablePlayerMarketValue': '170,00',\n",
       "  'mostValuablePlayerMarketValueCurrency': '€',\n",
       "  'mostValuablePlayerMarketValueNumeral': 'Mio.',\n",
       "  'mostValuableClubID': '281',\n",
       "  'mostValuableClubName': 'Manchester City',\n",
       "  'mostValuableClubMarketValue': '1,05',\n",
       "  'mostValuableClubMarketValueCurrency': '€',\n",
       "  'mostValuableClubMarketValueNumeral': 'Mrd.'}}"
      ]
     },
     "execution_count": 13,
     "metadata": {},
     "output_type": "execute_result"
    }
   ],
   "source": [
    "json.loads(response.text)"
   ]
  },
  {
   "cell_type": "code",
   "execution_count": null,
   "id": "25df03e0-35de-428c-830c-ab41de50e5c0",
   "metadata": {},
   "outputs": [],
   "source": []
  }
 ],
 "metadata": {
  "kernelspec": {
   "display_name": "Python 3 (ipykernel)",
   "language": "python",
   "name": "python3"
  },
  "language_info": {
   "codemirror_mode": {
    "name": "ipython",
    "version": 3
   },
   "file_extension": ".py",
   "mimetype": "text/x-python",
   "name": "python",
   "nbconvert_exporter": "python",
   "pygments_lexer": "ipython3",
   "version": "3.8.16"
  }
 },
 "nbformat": 4,
 "nbformat_minor": 5
}
