{
 "cells": [
  {
   "cell_type": "code",
   "execution_count": null,
   "id": "c1615791-924e-4a7b-82fb-8f49f14566ce",
   "metadata": {},
   "outputs": [],
   "source": [
    "import pandas as pd\n",
    "import import_ipynb\n",
    "from fbrefScraping import extractFromFBRef\n",
    "from fbrefScraping import loggingConfig\n",
    "\n",
    "import fbrefScraping as fbrscrap\n",
    "import logging as log\n"
   ]
  },
  {
   "cell_type": "code",
   "execution_count": null,
   "id": "ddd3abc5-f931-4c4d-841a-56634327b41c",
   "metadata": {},
   "outputs": [],
   "source": [
    "latest_fbref_url = 'https://fbref.com/en/comps/31/Liga-MX-Stats'"
   ]
  },
  {
   "cell_type": "code",
   "execution_count": null,
   "id": "7c7879a9-2be8-479f-a2b4-07e612dac20e",
   "metadata": {},
   "outputs": [],
   "source": [
    "def updateMatches(baseFile, newFile):    \n",
    "    \n",
    "    thisSeasonMatches = extractFromFBRef(latest_fbref_url)  \n",
    "    baseDf = pd.read_csv(baseFile, encoding = \"latin-1\")\n",
    "    \n",
    "    updatedDf = pd.concat([baseDf,thisSeasonMatches], ignore_index= True)\n",
    "    updatedDf = updatedDf.drop_duplicates(subset  = [\"date\",\"team_name\"],    \\\n",
    "                                          keep    = 'last',                  \\\n",
    "                                          inplace = False)\n",
    "\n",
    "    updatedDf = updatedDf.replace('\\u25c6','')\n",
    "    updatedDf = updatedDf.sort_values(by = [\"date\", \"time\"], ascending = False)\n",
    "\n",
    "    updatedDf.to_csv(newFile, index=False, encoding =\"latin-1\", ignore_index=True)\n",
    "    log.info('Updated csv file called %s created successfully', newFile)\n",
    "    "
   ]
  },
  {
   "cell_type": "code",
   "execution_count": null,
   "id": "a99e6562-6983-4610-b235-7582a987ddaa",
   "metadata": {},
   "outputs": [],
   "source": [
    "if __name__ == '__main__':\n",
    "    loggingConfig(filename = 'updatingLogs.log', loglevel = 'DEBUG')\n",
    "    log.info('Starting program...')\n",
    "    \n",
    "    updateMatches(\"matches23-17_4.csv\",\"matches23-17_updated.csv\")\n",
    "    \n",
    "    log.info('Finishing program...')\n",
    "\n",
    "    "
   ]
  }
 ],
 "metadata": {
  "kernelspec": {
   "display_name": "Python 3 (ipykernel)",
   "language": "python",
   "name": "python3"
  },
  "language_info": {
   "codemirror_mode": {
    "name": "ipython",
    "version": 3
   },
   "file_extension": ".py",
   "mimetype": "text/x-python",
   "name": "python",
   "nbconvert_exporter": "python",
   "pygments_lexer": "ipython3",
   "version": "3.8.16"
  }
 },
 "nbformat": 4,
 "nbformat_minor": 5
}
