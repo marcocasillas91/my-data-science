{
 "cells": [
  {
   "cell_type": "code",
   "execution_count": 9,
   "id": "c1615791-924e-4a7b-82fb-8f49f14566ce",
   "metadata": {
    "tags": []
   },
   "outputs": [],
   "source": [
    "import pandas as pd\n",
    "import import_ipynb\n",
    "from fbrefScraping import extractFromFBRef\n",
    "from fbrefScraping import loggingConfig\n",
    "\n",
    "import fbrefScraping as fbrscrap\n",
    "import logging as log\n"
   ]
  },
  {
   "cell_type": "code",
   "execution_count": 10,
   "id": "ddd3abc5-f931-4c4d-841a-56634327b41c",
   "metadata": {
    "tags": []
   },
   "outputs": [],
   "source": [
    "latest_fbref_url = 'https://fbref.com/en/comps/31/Liga-MX-Stats'\n",
    "baseCsv = \"matches23-17-4.csv\"\n",
    "newCsv = \"matches23-17_updated.csv\""
   ]
  },
  {
   "cell_type": "code",
   "execution_count": 11,
   "id": "7c7879a9-2be8-479f-a2b4-07e612dac20e",
   "metadata": {
    "tags": []
   },
   "outputs": [],
   "source": [
    "def updateMatches(baseFile, newFile):    \n",
    "    \n",
    "    thisSeasonMatches = extractFromFBRef(latest_fbref_url)  \n",
    "    baseDf = pd.read_csv(baseFile, encoding = \"latin-1\")\n",
    "    \n",
    "    thisSeasonMatches[\"date\"] = pd.to_datetime(thisSeasonMatches[\"date\"])\n",
    "    thisSeasonMatches[\"time\"] = pd.to_datetime(thisSeasonMatches[\"time\"])\n",
    "    baseDf[\"date\"] = pd.to_datetime(df[\"date\"])\n",
    "    baseDf[\"time\"] = pd.to_datetime(df[\"time\"])\n",
    "    \n",
    "    updatedDf = pd.concat([baseDf,thisSeasonMatches], ignore_index= True)\n",
    "    updatedDf = updatedDf.drop_duplicates(subset  = [\"date\",\"team_name\"],    \\\n",
    "                                          keep    = 'last',                  \\\n",
    "                                          inplace = False)\n",
    "\n",
    "    updatedDf = updatedDf.replace('\\u25c6','')\n",
    "    updatedDf = updatedDf.sort_values(by = [\"date\", \"time\"], ascending = False)\n",
    "\n",
    "    updatedDf.to_csv(newFile, index=False, encoding =\"latin-1\")\n",
    "    log.info('Updated csv file called %s created successfully', newFile)\n",
    "    "
   ]
  },
  {
   "cell_type": "code",
   "execution_count": 12,
   "id": "a99e6562-6983-4610-b235-7582a987ddaa",
   "metadata": {
    "tags": []
   },
   "outputs": [
    {
     "ename": "IndexError",
     "evalue": "list index out of range",
     "output_type": "error",
     "traceback": [
      "\u001b[1;31m---------------------------------------------------------------------------\u001b[0m",
      "\u001b[1;31mIndexError\u001b[0m                                Traceback (most recent call last)",
      "Cell \u001b[1;32mIn[12], line 5\u001b[0m\n\u001b[0;32m      2\u001b[0m loggingConfig(filename \u001b[38;5;241m=\u001b[39m \u001b[38;5;124m'\u001b[39m\u001b[38;5;124mupdatingLogs.log\u001b[39m\u001b[38;5;124m'\u001b[39m, loglevel \u001b[38;5;241m=\u001b[39m \u001b[38;5;124m'\u001b[39m\u001b[38;5;124mDEBUG\u001b[39m\u001b[38;5;124m'\u001b[39m)\n\u001b[0;32m      3\u001b[0m log\u001b[38;5;241m.\u001b[39minfo(\u001b[38;5;124m'\u001b[39m\u001b[38;5;124mStarting program...\u001b[39m\u001b[38;5;124m'\u001b[39m)\n\u001b[1;32m----> 5\u001b[0m \u001b[43mupdateMatches\u001b[49m\u001b[43m(\u001b[49m\u001b[38;5;124;43m\"\u001b[39;49m\u001b[38;5;124;43mmatches23-17-4.csv\u001b[39;49m\u001b[38;5;124;43m\"\u001b[39;49m\u001b[43m,\u001b[49m\u001b[38;5;124;43m\"\u001b[39;49m\u001b[38;5;124;43mmatches23-17_updated.csv\u001b[39;49m\u001b[38;5;124;43m\"\u001b[39;49m\u001b[43m)\u001b[49m\n\u001b[0;32m      6\u001b[0m \u001b[38;5;28mprint\u001b[39m(\u001b[38;5;124m\"\u001b[39m\u001b[38;5;124mFinishing update sequence...\u001b[39m\u001b[38;5;124m\"\u001b[39m)\n\u001b[0;32m      8\u001b[0m log\u001b[38;5;241m.\u001b[39minfo(\u001b[38;5;124m'\u001b[39m\u001b[38;5;124mFinishing program...\u001b[39m\u001b[38;5;124m'\u001b[39m)\n",
      "Cell \u001b[1;32mIn[11], line 3\u001b[0m, in \u001b[0;36mupdateMatches\u001b[1;34m(baseFile, newFile)\u001b[0m\n\u001b[0;32m      1\u001b[0m \u001b[38;5;28;01mdef\u001b[39;00m \u001b[38;5;21mupdateMatches\u001b[39m(baseFile, newFile):    \n\u001b[1;32m----> 3\u001b[0m     thisSeasonMatches \u001b[38;5;241m=\u001b[39m \u001b[43mextractFromFBRef\u001b[49m\u001b[43m(\u001b[49m\u001b[43mlatest_fbref_url\u001b[49m\u001b[43m)\u001b[49m  \n\u001b[0;32m      4\u001b[0m     baseDf \u001b[38;5;241m=\u001b[39m pd\u001b[38;5;241m.\u001b[39mread_csv(baseFile, encoding \u001b[38;5;241m=\u001b[39m \u001b[38;5;124m\"\u001b[39m\u001b[38;5;124mlatin-1\u001b[39m\u001b[38;5;124m\"\u001b[39m)\n\u001b[0;32m      6\u001b[0m     thisSeasonMatches[\u001b[38;5;124m\"\u001b[39m\u001b[38;5;124mdate\u001b[39m\u001b[38;5;124m\"\u001b[39m] \u001b[38;5;241m=\u001b[39m pd\u001b[38;5;241m.\u001b[39mto_datetime(thisSeasonMatches[\u001b[38;5;124m\"\u001b[39m\u001b[38;5;124mdate\u001b[39m\u001b[38;5;124m\"\u001b[39m])\n",
      "File \u001b[1;32mD:\\Archivos\\repos\\my-data-science\\Football-ML-v2.0\\notebooks\\fbrefScraping.py:87\u001b[0m, in \u001b[0;36mextractFromFBRef\u001b[1;34m(baseUrl, years)\u001b[0m\n\u001b[0;32m     85\u001b[0m \u001b[38;5;28;01mfor\u001b[39;00m year \u001b[38;5;129;01min\u001b[39;00m years:\n\u001b[0;32m     86\u001b[0m     log\u001b[38;5;241m.\u001b[39mdebug(\u001b[38;5;124m'\u001b[39m\u001b[38;5;124mExtracting season teams info from \u001b[39m\u001b[38;5;132;01m%s\u001b[39;00m\u001b[38;5;124m'\u001b[39m, baseUrl)\n\u001b[1;32m---> 87\u001b[0m     league_urls, seasonSoup \u001b[38;5;241m=\u001b[39m \u001b[43mgetSeasonLeagueTeamsUrls\u001b[49m\u001b[43m(\u001b[49m\u001b[43mbaseUrl\u001b[49m\u001b[43m)\u001b[49m\n\u001b[0;32m     90\u001b[0m     \u001b[38;5;66;03m# Find anchor element with class 'prev' which contains link to previous season\u001b[39;00m\n\u001b[0;32m     91\u001b[0m     previous_season \u001b[38;5;241m=\u001b[39m seasonSoup\u001b[38;5;241m.\u001b[39mselect(\u001b[38;5;124m\"\u001b[39m\u001b[38;5;124ma.prev\u001b[39m\u001b[38;5;124m\"\u001b[39m)[\u001b[38;5;241m0\u001b[39m]\u001b[38;5;241m.\u001b[39mget(\u001b[38;5;124m\"\u001b[39m\u001b[38;5;124mhref\u001b[39m\u001b[38;5;124m\"\u001b[39m)\n",
      "File \u001b[1;32mD:\\Archivos\\repos\\my-data-science\\Football-ML-v2.0\\notebooks\\fbrefScraping.py:27\u001b[0m, in \u001b[0;36mgetSeasonLeagueTeamsUrls\u001b[1;34m(ligaMxUrl)\u001b[0m\n\u001b[0;32m     24\u001b[0m data \u001b[38;5;241m=\u001b[39m req\u001b[38;5;241m.\u001b[39mget(ligaMxUrl)\n\u001b[0;32m     25\u001b[0m soup \u001b[38;5;241m=\u001b[39m BeautifulSoup(data\u001b[38;5;241m.\u001b[39mtext, \u001b[38;5;124m\"\u001b[39m\u001b[38;5;124mlxml\u001b[39m\u001b[38;5;124m\"\u001b[39m)\n\u001b[1;32m---> 27\u001b[0m standings_table\u001b[38;5;241m=\u001b[39m\u001b[43msoup\u001b[49m\u001b[38;5;241;43m.\u001b[39;49m\u001b[43mselect\u001b[49m\u001b[43m(\u001b[49m\u001b[38;5;124;43m'\u001b[39;49m\u001b[38;5;124;43mtable.stats_table\u001b[39;49m\u001b[38;5;124;43m'\u001b[39;49m\u001b[43m)\u001b[49m\u001b[43m[\u001b[49m\u001b[38;5;241;43m0\u001b[39;49m\u001b[43m]\u001b[49m\n\u001b[0;32m     29\u001b[0m \u001b[38;5;66;03m#Retrieving team links\u001b[39;00m\n\u001b[0;32m     30\u001b[0m links \u001b[38;5;241m=\u001b[39m standings_table\u001b[38;5;241m.\u001b[39mfind_all(\u001b[38;5;124m'\u001b[39m\u001b[38;5;124ma\u001b[39m\u001b[38;5;124m'\u001b[39m)\n",
      "\u001b[1;31mIndexError\u001b[0m: list index out of range"
     ]
    }
   ],
   "source": [
    "if __name__ == '__main__':\n",
    "    loggingConfig(filename = 'updatingLogs.log', loglevel = 'DEBUG')\n",
    "    log.info('Starting program...')\n",
    "    \n",
    "    updateMatches(baseCsv,newCsv)\n",
    "    print(\"Finishing update sequence...\")\n",
    "\n",
    "    log.info('Finishing program...')\n",
    "\n",
    "    "
   ]
  },
  {
   "cell_type": "code",
   "execution_count": null,
   "id": "831c7b98-2a59-4892-bec1-a046c3fd2d00",
   "metadata": {},
   "outputs": [],
   "source": []
  }
 ],
 "metadata": {
  "kernelspec": {
   "display_name": "Python 3 (ipykernel)",
   "language": "python",
   "name": "python3"
  },
  "language_info": {
   "codemirror_mode": {
    "name": "ipython",
    "version": 3
   },
   "file_extension": ".py",
   "mimetype": "text/x-python",
   "name": "python",
   "nbconvert_exporter": "python",
   "pygments_lexer": "ipython3",
   "version": "3.8.16"
  }
 },
 "nbformat": 4,
 "nbformat_minor": 5
}
