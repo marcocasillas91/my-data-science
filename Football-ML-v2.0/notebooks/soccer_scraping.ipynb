{
 "cells": [
  {
   "cell_type": "code",
   "execution_count": 64,
   "id": "8bb3dda2-4a9a-4103-8e41-e495e27bb4f7",
   "metadata": {
    "tags": []
   },
   "outputs": [],
   "source": [
    "import pandas as pd\n",
    "import requests as req\n",
    "from bs4 import BeautifulSoup\n",
    "import time\n",
    "import numpy as np\n",
    "import lxml\n",
    "import chardet"
   ]
  },
  {
   "cell_type": "code",
   "execution_count": 66,
   "id": "14871ea9-c3ee-415c-900c-56d4edf5ce67",
   "metadata": {
    "tags": []
   },
   "outputs": [],
   "source": [
    "ligaMxUrl = 'https://fbref.com/en/comps/31/Liga-MX-Stats'\n"
   ]
  },
  {
   "cell_type": "code",
   "execution_count": 67,
   "id": "ac157930-a3ee-42b2-8ff2-ce3d5758a9b1",
   "metadata": {
    "tags": []
   },
   "outputs": [],
   "source": [
    "def getLeagueTeamsUrls(ligaMxUrl):\n",
    "    data = req.get(ligaMxUrl)\n",
    "    #soup = BeautifulSoup(data.text, features = \"html.parser\")\n",
    "    soup = BeautifulSoup(data.text, \"lxml\")\n",
    "\n",
    "    standings_table=soup.select('table.stats_table')[0]\n",
    "\n",
    "    #Retrieving team links\n",
    "    links = standings_table.find_all('a')\n",
    "    links =  [l.get(\"href\") for l in links]\n",
    "    links = [l for l in links if '/squads/' in l]\n",
    "\n",
    "    league_urls = [f\"https://fbref.com{l}\" for l in links]\n",
    "    return league_urls, soup\n"
   ]
  },
  {
   "cell_type": "code",
   "execution_count": 68,
   "id": "ef3b17b3-f9e3-481a-be62-eed9cea701f4",
   "metadata": {
    "tags": []
   },
   "outputs": [],
   "source": [
    "def getMatches(team_url):\n",
    "    team_web_data = req.get(team_url)\n",
    "    team_matches = pd.read_html(team_web_data.text, match = \"Scores & Fixtures\")[0]\n",
    "    return team_web_data, team_matches"
   ]
  },
  {
   "cell_type": "code",
   "execution_count": 69,
   "id": "19c99461-bd0f-408c-8aea-5f2b3f2c5915",
   "metadata": {
    "tags": []
   },
   "outputs": [],
   "source": [
    "def getShooting(team_data):\n",
    "    #soup = BeautifulSoup(team_data.text, features = \"html.parser\")\n",
    "    soup = BeautifulSoup(team_data.text, 'lxml')\n",
    "\n",
    "    shooting_link = soup.find_all(\"a\")\n",
    "    shooting_link = [l.get(\"href\") for l in shooting_link]\n",
    "    shooting_link = [l for l in shooting_link if l and 'all_comps/shooting/' in l]\n",
    "\n",
    "    shooting_data = req.get(f\"https://fbref.com{shooting_link[0]}\")\n",
    "    shootingInfo = pd.read_html(shooting_data.text, match='Shooting')[0]\n",
    "\n",
    "    #transformating shooting info\n",
    "    shootingInfo.columns = shootingInfo.columns.droplevel()\n",
    "    return shootingInfo\n",
    "\n"
   ]
  },
  {
   "cell_type": "code",
   "execution_count": 70,
   "id": "97471ced-bf25-478a-ad6c-84ad01865b30",
   "metadata": {
    "tags": []
   },
   "outputs": [
    {
     "ename": "KeyError",
     "evalue": "\"['FK'] not in index\"",
     "output_type": "error",
     "traceback": [
      "\u001b[1;31m---------------------------------------------------------------------------\u001b[0m",
      "\u001b[1;31mKeyError\u001b[0m                                  Traceback (most recent call last)",
      "Cell \u001b[1;32mIn[70], line 23\u001b[0m\n\u001b[0;32m     19\u001b[0m \u001b[38;5;66;03m#time.sleep(1)\u001b[39;00m\n\u001b[0;32m     21\u001b[0m \u001b[38;5;28;01mtry\u001b[39;00m:\n\u001b[1;32m---> 23\u001b[0m     team_df \u001b[38;5;241m=\u001b[39m teamMatchesDf\u001b[38;5;241m.\u001b[39mmerge(\u001b[43mteamShootingDf\u001b[49m\u001b[43m[\u001b[49m\u001b[43m[\u001b[49m\u001b[38;5;124;43m\"\u001b[39;49m\u001b[38;5;124;43mDate\u001b[39;49m\u001b[38;5;124;43m\"\u001b[39;49m\u001b[43m,\u001b[49m\u001b[38;5;124;43m\"\u001b[39;49m\u001b[38;5;124;43mSh\u001b[39;49m\u001b[38;5;124;43m\"\u001b[39;49m\u001b[43m,\u001b[49m\u001b[38;5;124;43m\"\u001b[39;49m\u001b[38;5;124;43mSoT\u001b[39;49m\u001b[38;5;124;43m\"\u001b[39;49m\u001b[43m,\u001b[49m\u001b[43m \u001b[49m\u001b[38;5;124;43m\"\u001b[39;49m\u001b[38;5;124;43mDist\u001b[39;49m\u001b[38;5;124;43m\"\u001b[39;49m\u001b[43m,\u001b[49m\u001b[38;5;124;43m\"\u001b[39;49m\u001b[38;5;124;43mFK\u001b[39;49m\u001b[38;5;124;43m\"\u001b[39;49m\u001b[43m,\u001b[49m\u001b[38;5;124;43m\"\u001b[39;49m\u001b[38;5;124;43mPK\u001b[39;49m\u001b[38;5;124;43m\"\u001b[39;49m\u001b[43m,\u001b[49m\u001b[38;5;124;43m\"\u001b[39;49m\u001b[38;5;124;43mPKatt\u001b[39;49m\u001b[38;5;124;43m\"\u001b[39;49m\u001b[43m]\u001b[49m\u001b[43m]\u001b[49m, on \u001b[38;5;241m=\u001b[39m \u001b[38;5;124m\"\u001b[39m\u001b[38;5;124mDate\u001b[39m\u001b[38;5;124m\"\u001b[39m)\n\u001b[0;32m     24\u001b[0m \u001b[38;5;28;01mexcept\u001b[39;00m \u001b[38;5;167;01mValueError\u001b[39;00m:\n\u001b[0;32m     25\u001b[0m     \u001b[38;5;28;01mcontinue\u001b[39;00m\n",
      "File \u001b[1;32mD:\\Programas\\jupyterlab-desktop\\jlab_server\\lib\\site-packages\\pandas\\core\\frame.py:3813\u001b[0m, in \u001b[0;36mDataFrame.__getitem__\u001b[1;34m(self, key)\u001b[0m\n\u001b[0;32m   3811\u001b[0m     \u001b[38;5;28;01mif\u001b[39;00m is_iterator(key):\n\u001b[0;32m   3812\u001b[0m         key \u001b[38;5;241m=\u001b[39m \u001b[38;5;28mlist\u001b[39m(key)\n\u001b[1;32m-> 3813\u001b[0m     indexer \u001b[38;5;241m=\u001b[39m \u001b[38;5;28;43mself\u001b[39;49m\u001b[38;5;241;43m.\u001b[39;49m\u001b[43mcolumns\u001b[49m\u001b[38;5;241;43m.\u001b[39;49m\u001b[43m_get_indexer_strict\u001b[49m\u001b[43m(\u001b[49m\u001b[43mkey\u001b[49m\u001b[43m,\u001b[49m\u001b[43m \u001b[49m\u001b[38;5;124;43m\"\u001b[39;49m\u001b[38;5;124;43mcolumns\u001b[39;49m\u001b[38;5;124;43m\"\u001b[39;49m\u001b[43m)\u001b[49m[\u001b[38;5;241m1\u001b[39m]\n\u001b[0;32m   3815\u001b[0m \u001b[38;5;66;03m# take() does not accept boolean indexers\u001b[39;00m\n\u001b[0;32m   3816\u001b[0m \u001b[38;5;28;01mif\u001b[39;00m \u001b[38;5;28mgetattr\u001b[39m(indexer, \u001b[38;5;124m\"\u001b[39m\u001b[38;5;124mdtype\u001b[39m\u001b[38;5;124m\"\u001b[39m, \u001b[38;5;28;01mNone\u001b[39;00m) \u001b[38;5;241m==\u001b[39m \u001b[38;5;28mbool\u001b[39m:\n",
      "File \u001b[1;32mD:\\Programas\\jupyterlab-desktop\\jlab_server\\lib\\site-packages\\pandas\\core\\indexes\\base.py:6070\u001b[0m, in \u001b[0;36mIndex._get_indexer_strict\u001b[1;34m(self, key, axis_name)\u001b[0m\n\u001b[0;32m   6067\u001b[0m \u001b[38;5;28;01melse\u001b[39;00m:\n\u001b[0;32m   6068\u001b[0m     keyarr, indexer, new_indexer \u001b[38;5;241m=\u001b[39m \u001b[38;5;28mself\u001b[39m\u001b[38;5;241m.\u001b[39m_reindex_non_unique(keyarr)\n\u001b[1;32m-> 6070\u001b[0m \u001b[38;5;28;43mself\u001b[39;49m\u001b[38;5;241;43m.\u001b[39;49m\u001b[43m_raise_if_missing\u001b[49m\u001b[43m(\u001b[49m\u001b[43mkeyarr\u001b[49m\u001b[43m,\u001b[49m\u001b[43m \u001b[49m\u001b[43mindexer\u001b[49m\u001b[43m,\u001b[49m\u001b[43m \u001b[49m\u001b[43maxis_name\u001b[49m\u001b[43m)\u001b[49m\n\u001b[0;32m   6072\u001b[0m keyarr \u001b[38;5;241m=\u001b[39m \u001b[38;5;28mself\u001b[39m\u001b[38;5;241m.\u001b[39mtake(indexer)\n\u001b[0;32m   6073\u001b[0m \u001b[38;5;28;01mif\u001b[39;00m \u001b[38;5;28misinstance\u001b[39m(key, Index):\n\u001b[0;32m   6074\u001b[0m     \u001b[38;5;66;03m# GH 42790 - Preserve name from an Index\u001b[39;00m\n",
      "File \u001b[1;32mD:\\Programas\\jupyterlab-desktop\\jlab_server\\lib\\site-packages\\pandas\\core\\indexes\\base.py:6133\u001b[0m, in \u001b[0;36mIndex._raise_if_missing\u001b[1;34m(self, key, indexer, axis_name)\u001b[0m\n\u001b[0;32m   6130\u001b[0m     \u001b[38;5;28;01mraise\u001b[39;00m \u001b[38;5;167;01mKeyError\u001b[39;00m(\u001b[38;5;124mf\u001b[39m\u001b[38;5;124m\"\u001b[39m\u001b[38;5;124mNone of [\u001b[39m\u001b[38;5;132;01m{\u001b[39;00mkey\u001b[38;5;132;01m}\u001b[39;00m\u001b[38;5;124m] are in the [\u001b[39m\u001b[38;5;132;01m{\u001b[39;00maxis_name\u001b[38;5;132;01m}\u001b[39;00m\u001b[38;5;124m]\u001b[39m\u001b[38;5;124m\"\u001b[39m)\n\u001b[0;32m   6132\u001b[0m not_found \u001b[38;5;241m=\u001b[39m \u001b[38;5;28mlist\u001b[39m(ensure_index(key)[missing_mask\u001b[38;5;241m.\u001b[39mnonzero()[\u001b[38;5;241m0\u001b[39m]]\u001b[38;5;241m.\u001b[39munique())\n\u001b[1;32m-> 6133\u001b[0m \u001b[38;5;28;01mraise\u001b[39;00m \u001b[38;5;167;01mKeyError\u001b[39;00m(\u001b[38;5;124mf\u001b[39m\u001b[38;5;124m\"\u001b[39m\u001b[38;5;132;01m{\u001b[39;00mnot_found\u001b[38;5;132;01m}\u001b[39;00m\u001b[38;5;124m not in index\u001b[39m\u001b[38;5;124m\"\u001b[39m)\n",
      "\u001b[1;31mKeyError\u001b[0m: \"['FK'] not in index\""
     ]
    }
   ],
   "source": [
    "#league_urls=['https://fbref.com/en/squads/c02b0f7a/Guadalajara-Stats']\n",
    "\n",
    "years = list(range(2023, 2017, -1))\n",
    "#years = [2023]\n",
    "\n",
    "# List of dataframes: Dataframes with each team's matches information per season\n",
    "all_matches = []\n",
    "\n",
    "for year in years: \n",
    "    league_urls, seasonSoup = getLeagueTeamsUrls(ligaMxUrl)\n",
    "    \n",
    "    # Find anchor element with class 'prev' which contains link to previous season\n",
    "    previous_season = seasonSoup.select(\"a.prev\")[0].get(\"href\")\n",
    "    ligaMxUrl = f\"https://fbref.com{previous_season}\"\n",
    "\n",
    "    for team_url in league_urls:\n",
    "        teamWebData, teamMatchesDf = getMatches(team_url)\n",
    "        teamShootingDf = getShooting(teamWebData)\n",
    "        #time.sleep(1)\n",
    "        \n",
    "        try:\n",
    "            \n",
    "            team_df = teamMatchesDf.merge(teamShootingDf[[\"Date\",\"Sh\",\"SoT\", \"Dist\",\"FK\",\"PK\",\"PKatt\"]], on = \"Date\")\n",
    "        except ValueError:\n",
    "            continue\n",
    "\n",
    "        team_name = team_url.split(\"/\")[-1].replace(\"-Stats\",\"\").replace(\"-\",\" \")\n",
    "        team_df[\"team_name\"] = team_name\n",
    "        team_df[\"season\"] = year\n",
    "        all_matches.append(team_df)\n",
    "        time.sleep(1)   \n",
    "\n",
    "#team_df.head()\n"
   ]
  },
  {
   "cell_type": "code",
   "execution_count": 46,
   "id": "b0856eb9-d58f-4da3-af71-d1629545b640",
   "metadata": {
    "tags": []
   },
   "outputs": [],
   "source": [
    "league_matches = pd.concat(all_matches)"
   ]
  },
  {
   "cell_type": "code",
   "execution_count": 47,
   "id": "b4f7ada3-7f0f-467a-a41c-074e4a715c4b",
   "metadata": {
    "tags": []
   },
   "outputs": [],
   "source": [
    "league_matches.columns = [c.lower() for c in league_matches.columns] \n"
   ]
  },
  {
   "cell_type": "code",
   "execution_count": 48,
   "id": "b3c630bc-3865-45ae-b01a-301e00b7cf50",
   "metadata": {
    "tags": []
   },
   "outputs": [],
   "source": [
    "#league_matches[\"gf\"] = league_matches[\"gf\"].astype(float)\n",
    "league_matches[\"gf\"] = pd.to_numeric(league_matches[\"gf\"], errors = 'coerce')\n",
    "league_matches[\"ga\"] = pd.to_numeric(league_matches[\"ga\"], errors = 'coerce')\n"
   ]
  },
  {
   "cell_type": "code",
   "execution_count": 49,
   "id": "89d0fc3d-784d-4b69-a52b-7541e2dfe2e7",
   "metadata": {
    "tags": []
   },
   "outputs": [
    {
     "data": {
      "text/html": [
       "<div>\n",
       "<style scoped>\n",
       "    .dataframe tbody tr th:only-of-type {\n",
       "        vertical-align: middle;\n",
       "    }\n",
       "\n",
       "    .dataframe tbody tr th {\n",
       "        vertical-align: top;\n",
       "    }\n",
       "\n",
       "    .dataframe thead th {\n",
       "        text-align: right;\n",
       "    }\n",
       "</style>\n",
       "<table border=\"1\" class=\"dataframe\">\n",
       "  <thead>\n",
       "    <tr style=\"text-align: right;\">\n",
       "      <th></th>\n",
       "      <th>date</th>\n",
       "      <th>time</th>\n",
       "      <th>comp</th>\n",
       "      <th>round</th>\n",
       "      <th>day</th>\n",
       "      <th>venue</th>\n",
       "      <th>result</th>\n",
       "      <th>gf</th>\n",
       "      <th>ga</th>\n",
       "      <th>opponent</th>\n",
       "      <th>...</th>\n",
       "      <th>match report</th>\n",
       "      <th>notes</th>\n",
       "      <th>sh</th>\n",
       "      <th>sot</th>\n",
       "      <th>dist</th>\n",
       "      <th>fk</th>\n",
       "      <th>pk</th>\n",
       "      <th>pkatt</th>\n",
       "      <th>team_name</th>\n",
       "      <th>season</th>\n",
       "    </tr>\n",
       "  </thead>\n",
       "  <tbody>\n",
       "    <tr>\n",
       "      <th>0</th>\n",
       "      <td>2022-07-03</td>\n",
       "      <td>19:05</td>\n",
       "      <td>Liga MX</td>\n",
       "      <td>Apertura 2022 Regular Season</td>\n",
       "      <td>Sun</td>\n",
       "      <td>Away</td>\n",
       "      <td>L</td>\n",
       "      <td>3</td>\n",
       "      <td>4</td>\n",
       "      <td>Santos</td>\n",
       "      <td>...</td>\n",
       "      <td>Match Report</td>\n",
       "      <td>NaN</td>\n",
       "      <td>16</td>\n",
       "      <td>7</td>\n",
       "      <td>19.0</td>\n",
       "      <td>1</td>\n",
       "      <td>1</td>\n",
       "      <td>1</td>\n",
       "      <td>Monterrey</td>\n",
       "      <td>2023</td>\n",
       "    </tr>\n",
       "    <tr>\n",
       "      <th>1</th>\n",
       "      <td>2022-07-09</td>\n",
       "      <td>21:05</td>\n",
       "      <td>Liga MX</td>\n",
       "      <td>Apertura 2022 Regular Season</td>\n",
       "      <td>Sat</td>\n",
       "      <td>Home</td>\n",
       "      <td>W</td>\n",
       "      <td>3</td>\n",
       "      <td>2</td>\n",
       "      <td>América</td>\n",
       "      <td>...</td>\n",
       "      <td>Match Report</td>\n",
       "      <td>NaN</td>\n",
       "      <td>19</td>\n",
       "      <td>8</td>\n",
       "      <td>20.7</td>\n",
       "      <td>0</td>\n",
       "      <td>0</td>\n",
       "      <td>0</td>\n",
       "      <td>Monterrey</td>\n",
       "      <td>2023</td>\n",
       "    </tr>\n",
       "    <tr>\n",
       "      <th>2</th>\n",
       "      <td>2022-07-17</td>\n",
       "      <td>17:00</td>\n",
       "      <td>Liga MX</td>\n",
       "      <td>Apertura 2022 Regular Season</td>\n",
       "      <td>Sun</td>\n",
       "      <td>Away</td>\n",
       "      <td>W</td>\n",
       "      <td>1</td>\n",
       "      <td>0</td>\n",
       "      <td>Atlético</td>\n",
       "      <td>...</td>\n",
       "      <td>Match Report</td>\n",
       "      <td>NaN</td>\n",
       "      <td>18</td>\n",
       "      <td>4</td>\n",
       "      <td>24.1</td>\n",
       "      <td>0</td>\n",
       "      <td>1</td>\n",
       "      <td>1</td>\n",
       "      <td>Monterrey</td>\n",
       "      <td>2023</td>\n",
       "    </tr>\n",
       "    <tr>\n",
       "      <th>3</th>\n",
       "      <td>2022-07-21</td>\n",
       "      <td>21:00</td>\n",
       "      <td>Liga MX</td>\n",
       "      <td>Apertura 2022 Regular Season</td>\n",
       "      <td>Thu</td>\n",
       "      <td>Away</td>\n",
       "      <td>W</td>\n",
       "      <td>3</td>\n",
       "      <td>0</td>\n",
       "      <td>Querétaro</td>\n",
       "      <td>...</td>\n",
       "      <td>Match Report</td>\n",
       "      <td>NaN</td>\n",
       "      <td>15</td>\n",
       "      <td>6</td>\n",
       "      <td>16.8</td>\n",
       "      <td>1</td>\n",
       "      <td>0</td>\n",
       "      <td>0</td>\n",
       "      <td>Monterrey</td>\n",
       "      <td>2023</td>\n",
       "    </tr>\n",
       "    <tr>\n",
       "      <th>4</th>\n",
       "      <td>2022-07-26</td>\n",
       "      <td>19:00</td>\n",
       "      <td>Liga MX</td>\n",
       "      <td>Apertura 2022 Regular Season</td>\n",
       "      <td>Tue</td>\n",
       "      <td>Home</td>\n",
       "      <td>W</td>\n",
       "      <td>1</td>\n",
       "      <td>0</td>\n",
       "      <td>Puebla</td>\n",
       "      <td>...</td>\n",
       "      <td>Match Report</td>\n",
       "      <td>NaN</td>\n",
       "      <td>22</td>\n",
       "      <td>7</td>\n",
       "      <td>17.7</td>\n",
       "      <td>0</td>\n",
       "      <td>0</td>\n",
       "      <td>0</td>\n",
       "      <td>Monterrey</td>\n",
       "      <td>2023</td>\n",
       "    </tr>\n",
       "  </tbody>\n",
       "</table>\n",
       "<p>5 rows × 27 columns</p>\n",
       "</div>"
      ],
      "text/plain": [
       "         date   time     comp                         round  day venue result  \\\n",
       "0  2022-07-03  19:05  Liga MX  Apertura 2022 Regular Season  Sun  Away      L   \n",
       "1  2022-07-09  21:05  Liga MX  Apertura 2022 Regular Season  Sat  Home      W   \n",
       "2  2022-07-17  17:00  Liga MX  Apertura 2022 Regular Season  Sun  Away      W   \n",
       "3  2022-07-21  21:00  Liga MX  Apertura 2022 Regular Season  Thu  Away      W   \n",
       "4  2022-07-26  19:00  Liga MX  Apertura 2022 Regular Season  Tue  Home      W   \n",
       "\n",
       "   gf  ga   opponent  ...  match report  notes  sh  sot  dist fk pk pkatt  \\\n",
       "0   3   4     Santos  ...  Match Report    NaN  16    7  19.0  1  1     1   \n",
       "1   3   2    América  ...  Match Report    NaN  19    8  20.7  0  0     0   \n",
       "2   1   0   Atlético  ...  Match Report    NaN  18    4  24.1  0  1     1   \n",
       "3   3   0  Querétaro  ...  Match Report    NaN  15    6  16.8  1  0     0   \n",
       "4   1   0     Puebla  ...  Match Report    NaN  22    7  17.7  0  0     0   \n",
       "\n",
       "   team_name  season  \n",
       "0  Monterrey    2023  \n",
       "1  Monterrey    2023  \n",
       "2  Monterrey    2023  \n",
       "3  Monterrey    2023  \n",
       "4  Monterrey    2023  \n",
       "\n",
       "[5 rows x 27 columns]"
      ]
     },
     "execution_count": 49,
     "metadata": {},
     "output_type": "execute_result"
    }
   ],
   "source": [
    "league_matches[\"gf\"] =league_matches[\"gf\"].astype('Int64')\n",
    "league_matches[\"ga\"] =league_matches[\"ga\"].astype('Int64')\n",
    "\n",
    "league_matches.head()"
   ]
  },
  {
   "cell_type": "code",
   "execution_count": 50,
   "id": "b958b73a-8d0f-4841-9f01-9df862017ca2",
   "metadata": {
    "tags": []
   },
   "outputs": [
    {
     "data": {
      "text/plain": [
       "(500, 27)"
      ]
     },
     "execution_count": 50,
     "metadata": {},
     "output_type": "execute_result"
    }
   ],
   "source": [
    "league_matches.shape"
   ]
  },
  {
   "cell_type": "code",
   "execution_count": null,
   "id": "9351a49e-efd8-4e13-b9cb-132acd1679b8",
   "metadata": {},
   "outputs": [],
   "source": []
  }
 ],
 "metadata": {
  "kernelspec": {
   "display_name": "Python 3 (ipykernel)",
   "language": "python",
   "name": "python3"
  },
  "language_info": {
   "codemirror_mode": {
    "name": "ipython",
    "version": 3
   },
   "file_extension": ".py",
   "mimetype": "text/x-python",
   "name": "python",
   "nbconvert_exporter": "python",
   "pygments_lexer": "ipython3",
   "version": "3.8.16"
  }
 },
 "nbformat": 4,
 "nbformat_minor": 5
}
